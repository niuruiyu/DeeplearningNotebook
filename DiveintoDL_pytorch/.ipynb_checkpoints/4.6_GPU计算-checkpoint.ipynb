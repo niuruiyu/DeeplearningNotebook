{
 "cells": [
  {
   "cell_type": "code",
   "execution_count": 2,
   "id": "f45e1bba-0535-44da-8c47-d7f97da8d7a4",
   "metadata": {},
   "outputs": [
    {
     "name": "stdout",
     "output_type": "stream",
     "text": [
      "True\n"
     ]
    }
   ],
   "source": [
    "import torch\n",
    "from torch import nn\n",
    "print(torch.cuda.is_available())\n",
    "#查看gpu是否可用"
   ]
  },
  {
   "cell_type": "code",
   "execution_count": 3,
   "id": "a6bfdcc9-6a0a-4a2b-9d6c-ae16da9a2d51",
   "metadata": {},
   "outputs": [
    {
     "data": {
      "text/plain": [
       "1"
      ]
     },
     "execution_count": 3,
     "metadata": {},
     "output_type": "execute_result"
    }
   ],
   "source": [
    "#查看gpu数量\n",
    "torch.cuda.device_count()"
   ]
  },
  {
   "cell_type": "code",
   "execution_count": 4,
   "id": "5e699c18-5296-407c-9027-1ecc33260923",
   "metadata": {},
   "outputs": [
    {
     "data": {
      "text/plain": [
       "0"
      ]
     },
     "execution_count": 4,
     "metadata": {},
     "output_type": "execute_result"
    }
   ],
   "source": [
    "#查看当前gpu索引\n",
    "torch.cuda.current_device()"
   ]
  },
  {
   "cell_type": "code",
   "execution_count": 5,
   "id": "7d1a0cb3-ca74-422e-a7e5-bae91226fd03",
   "metadata": {},
   "outputs": [
    {
     "data": {
      "text/plain": [
       "'NVIDIA GeForce RTX 4060 Laptop GPU'"
      ]
     },
     "execution_count": 5,
     "metadata": {},
     "output_type": "execute_result"
    }
   ],
   "source": [
    "#根据索引查看GPU的名字\n",
    "torch.cuda.get_device_name(0)"
   ]
  },
  {
   "cell_type": "markdown",
   "id": "8e229b2b-5b06-4650-8fdf-38aca741adff",
   "metadata": {},
   "source": [
    "tensor的gpu计算"
   ]
  },
  {
   "cell_type": "code",
   "execution_count": 6,
   "id": "49311d84-22fb-4efd-b41d-10c864782b2b",
   "metadata": {},
   "outputs": [
    {
     "data": {
      "text/plain": [
       "tensor([1, 2, 3])"
      ]
     },
     "execution_count": 6,
     "metadata": {},
     "output_type": "execute_result"
    }
   ],
   "source": [
    "#默认情况下tensor会被在存在内存上，所以每次打印tensor的时候看不到gpu相关\n",
    "x = torch.tensor([1,2,3])\n",
    "x"
   ]
  },
  {
   "cell_type": "code",
   "execution_count": 7,
   "id": "8f64ca28-0b3d-40f7-86ad-364989fa9a28",
   "metadata": {},
   "outputs": [
    {
     "data": {
      "text/plain": [
       "tensor([1, 2, 3], device='cuda:0')"
      ]
     },
     "execution_count": 7,
     "metadata": {},
     "output_type": "execute_result"
    }
   ],
   "source": [
    "#使用.cuda()可以将cpu上的tensor转换（复制）到gpu上。（如果有多块gpu，使用（i）来表示第i块\n",
    "x = x.cuda(0)\n",
    "x"
   ]
  },
  {
   "cell_type": "code",
   "execution_count": 8,
   "id": "cdc71651-3050-4d95-a282-a34036ac94a0",
   "metadata": {},
   "outputs": [
    {
     "data": {
      "text/plain": [
       "device(type='cuda', index=0)"
      ]
     },
     "execution_count": 8,
     "metadata": {},
     "output_type": "execute_result"
    }
   ],
   "source": [
    "#tensor的device属性来查看该tensor所在的设备\n",
    "x.device"
   ]
  },
  {
   "cell_type": "code",
   "execution_count": 10,
   "id": "21ee08a1-8ab7-4392-a64f-b7a68aa474b2",
   "metadata": {},
   "outputs": [
    {
     "data": {
      "text/plain": [
       "tensor([1, 2, 3], device='cuda:0')"
      ]
     },
     "execution_count": 10,
     "metadata": {},
     "output_type": "execute_result"
    }
   ],
   "source": [
    "#可以在创建的时候就指定设备\n",
    "device = torch.device('cuda' if torch.cuda.is_available() else 'cpu')\n",
    "# x = torch.tensor([1,2,3],device = device)\n",
    "#或者是\n",
    "x = torch.tensor([1,2,3]).to(device)\n",
    "x"
   ]
  },
  {
   "cell_type": "code",
   "execution_count": 11,
   "id": "a9f50661-202d-4763-ad1b-719d15d69d59",
   "metadata": {},
   "outputs": [
    {
     "data": {
      "text/plain": [
       "tensor([1, 4, 9], device='cuda:0')"
      ]
     },
     "execution_count": 11,
     "metadata": {},
     "output_type": "execute_result"
    }
   ],
   "source": [
    "#如果是对在gpu上的数据及逆行运算，那么结果还是存放在gpu上\n",
    "y = x**2\n",
    "y"
   ]
  },
  {
   "cell_type": "code",
   "execution_count": 12,
   "id": "ce85044f-0d7a-4067-92eb-943f8d957bd9",
   "metadata": {},
   "outputs": [
    {
     "ename": "RuntimeError",
     "evalue": "Expected all tensors to be on the same device, but found at least two devices, cuda:0 and cpu!",
     "output_type": "error",
     "traceback": [
      "\u001b[1;31m---------------------------------------------------------------------------\u001b[0m",
      "\u001b[1;31mRuntimeError\u001b[0m                              Traceback (most recent call last)",
      "Cell \u001b[1;32mIn[12], line 2\u001b[0m\n\u001b[0;32m      1\u001b[0m \u001b[38;5;66;03m#存储在不同位置的数据不能直接进行计算\u001b[39;00m\n\u001b[1;32m----> 2\u001b[0m z \u001b[38;5;241m=\u001b[39m \u001b[43my\u001b[49m\u001b[38;5;241;43m+\u001b[39;49m\u001b[43mx\u001b[49m\u001b[38;5;241;43m.\u001b[39;49m\u001b[43mcpu\u001b[49m\u001b[43m(\u001b[49m\u001b[43m)\u001b[49m\n",
      "\u001b[1;31mRuntimeError\u001b[0m: Expected all tensors to be on the same device, but found at least two devices, cuda:0 and cpu!"
     ]
    }
   ],
   "source": [
    "#存储在不同位置的数据不能直接进行计算\n",
    "z = y+x.cpu()"
   ]
  },
  {
   "cell_type": "markdown",
   "id": "9597b4a5-762b-403f-b7b2-b666d1338a0e",
   "metadata": {},
   "source": [
    "模型的gpu计算"
   ]
  },
  {
   "cell_type": "markdown",
   "id": "c9e53c15-d822-434d-adfb-097eb5c97bdd",
   "metadata": {},
   "source": [
    "pytorch的模型也可以通过.cuda转换到gpu上"
   ]
  },
  {
   "cell_type": "code",
   "execution_count": 14,
   "id": "acb3d917-1c62-4130-adf1-c6e08d53b499",
   "metadata": {},
   "outputs": [
    {
     "data": {
      "text/plain": [
       "device(type='cpu')"
      ]
     },
     "execution_count": 14,
     "metadata": {},
     "output_type": "execute_result"
    }
   ],
   "source": [
    "net = nn.Linear(3,1)\n",
    "list(net.parameters())[0].device"
   ]
  },
  {
   "cell_type": "code",
   "execution_count": 15,
   "id": "faeac155-2837-4567-b37a-ae55085f24dd",
   "metadata": {},
   "outputs": [
    {
     "data": {
      "text/plain": [
       "device(type='cuda', index=0)"
      ]
     },
     "execution_count": 15,
     "metadata": {},
     "output_type": "execute_result"
    }
   ],
   "source": [
    "#转到GPU上\n",
    "net.cuda()\n",
    "list(net.parameters())[0].device"
   ]
  },
  {
   "cell_type": "code",
   "execution_count": 16,
   "id": "e5b2b9bd-9cd8-4fb2-b757-337f7f0c4739",
   "metadata": {},
   "outputs": [
    {
     "data": {
      "text/plain": [
       "tensor([[1.0184],\n",
       "        [1.4626]], device='cuda:0', grad_fn=<AddmmBackward0>)"
      ]
     },
     "execution_count": 16,
     "metadata": {},
     "output_type": "execute_result"
    }
   ],
   "source": [
    "#要保证模型和输入的tensor都在同意设备上，否则会报错\n",
    "x = torch.rand(2,3).cuda()\n",
    "net(x)"
   ]
  },
  {
   "cell_type": "markdown",
   "id": "7bb369c2-7249-464e-b8b3-adae9028e7af",
   "metadata": {},
   "source": [
    "summary  \n",
    "本节的内容分成两部分：tensor到gpu上  and   模型到gpu上  \n",
    "tensor到gpu上：  \n",
    ".cuda()  \n",
    "或者  \n",
    "``` Python\n",
    "device = torch.device('cuda' if torch.cuda.is_available() else 'cpu')\n",
    "x.to(device)\n",
    "```\n",
    "模型到cuda上  \n",
    ".cuda()"
   ]
  },
  {
   "cell_type": "code",
   "execution_count": null,
   "id": "d962ef0c-9ff6-4dcc-9fb3-54fc1bf869de",
   "metadata": {},
   "outputs": [],
   "source": []
  }
 ],
 "metadata": {
  "kernelspec": {
   "display_name": "Python(pytorch)",
   "language": "python",
   "name": "pytorch"
  },
  "language_info": {
   "codemirror_mode": {
    "name": "ipython",
    "version": 3
   },
   "file_extension": ".py",
   "mimetype": "text/x-python",
   "name": "python",
   "nbconvert_exporter": "python",
   "pygments_lexer": "ipython3",
   "version": "3.10.18"
  }
 },
 "nbformat": 4,
 "nbformat_minor": 5
}
