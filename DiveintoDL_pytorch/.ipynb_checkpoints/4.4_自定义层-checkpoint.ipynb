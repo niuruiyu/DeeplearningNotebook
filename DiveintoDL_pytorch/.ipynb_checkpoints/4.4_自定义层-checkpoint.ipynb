{
 "cells": [
  {
   "cell_type": "markdown",
   "id": "94626964-1a25-4f5b-90d3-e4c4914abb05",
   "metadata": {},
   "source": [
    "module里面已经包括了全连接层卷积层池化层，这里介绍如何自定义层"
   ]
  },
  {
   "cell_type": "code",
   "execution_count": 1,
   "id": "eb78f5c6-20e4-42cc-bcf7-2f62fa288292",
   "metadata": {},
   "outputs": [],
   "source": [
    "#不含模型参数的自定义层\n",
    "import torch\n",
    "from torch import nn\n",
    "#定义了一层将输入减去均值后在输出的层（这个层不含模型参数\n",
    "class CenteredLayer(nn.Module):\n",
    "    def __init__(self,**kwargs):\n",
    "        super(CenteredLayer,self).__init__(**kwargs)\n",
    "    def forward(self,x):\n",
    "        return x-x.mean()"
   ]
  },
  {
   "cell_type": "code",
   "execution_count": 3,
   "id": "9d7f15f8-ff8c-4b5d-b864-621c4cce428e",
   "metadata": {},
   "outputs": [
    {
     "data": {
      "text/plain": [
       "tensor([-2., -1.,  0.,  1.,  2.])"
      ]
     },
     "execution_count": 3,
     "metadata": {},
     "output_type": "execute_result"
    }
   ],
   "source": [
    "#实例化这个层进行前向传播\n",
    "layer = CenteredLayer()\n",
    "x = torch.tensor([1,2,3,4,5],dtype = torch.float)\n",
    "layer(x)"
   ]
  },
  {
   "cell_type": "code",
   "execution_count": 4,
   "id": "0a7b1c05-8c95-40ef-8c43-bd2773ce1bf5",
   "metadata": {},
   "outputs": [],
   "source": [
    "#可以用上面的层构建复杂的模型\n",
    "net = nn.Sequential(nn.Linear(8,128),\n",
    "                    CenteredLayer())\n"
   ]
  },
  {
   "cell_type": "code",
   "execution_count": 7,
   "id": "60debd4a-60f7-457e-bef1-cbb362f7053b",
   "metadata": {},
   "outputs": [
    {
     "data": {
      "text/plain": [
       "1.862645149230957e-09"
      ]
     },
     "execution_count": 7,
     "metadata": {},
     "output_type": "execute_result"
    }
   ],
   "source": [
    "X = torch.rand(4,8)\n",
    "Y = net(X)\n",
    "Y.mean().item()"
   ]
  },
  {
   "cell_type": "code",
   "execution_count": 8,
   "id": "660203f6-e5e6-4984-a5a3-00f2d622cd50",
   "metadata": {},
   "outputs": [],
   "source": [
    "#含模型参数的自定义层，里面的模型参数要设定为Parameter类，\n",
    "#也可以使用ParameterList和ParameterDict分别定义参数的列表和字典\n",
    "class MyDense(nn.Module):\n",
    "    def __init__(self):\n",
    "        super(MyDense,self).__init__()\n",
    "        self.params = nn.ParameterList([nn.Parameter(torch.randn(4,4)) for i in range(3)])\n",
    "        self.params.append(nn.Parameter(torch.randn(4,1)))\n",
    "    def forward(self ,x):\n",
    "        for i in range(len(self.params)):\n",
    "            x = torch.mm(x,self.params[i])\n",
    "        return x\n",
    "    \n"
   ]
  },
  {
   "cell_type": "code",
   "execution_count": 9,
   "id": "ac6ca9c7-83e5-48e0-80c8-5217952688eb",
   "metadata": {},
   "outputs": [
    {
     "name": "stdout",
     "output_type": "stream",
     "text": [
      "MyDense(\n",
      "  (params): ParameterList(\n",
      "      (0): Parameter containing: [torch.float32 of size 4x4]\n",
      "      (1): Parameter containing: [torch.float32 of size 4x4]\n",
      "      (2): Parameter containing: [torch.float32 of size 4x4]\n",
      "      (3): Parameter containing: [torch.float32 of size 4x1]\n",
      "  )\n",
      ")\n"
     ]
    }
   ],
   "source": [
    "net = MyDense()\n",
    "print(net)"
   ]
  },
  {
   "cell_type": "code",
   "execution_count": 20,
   "id": "acbbae53-72eb-4de1-89d3-5c5a3db4859f",
   "metadata": {},
   "outputs": [],
   "source": [
    "#使用ParameterDict\n",
    "class MyDictDense(nn.Module):\n",
    "    def __init__(self):\n",
    "        super(MyDictDense,self).__init__()\n",
    "        self.params = nn.ParameterDict({\n",
    "        'linear1':nn.Parameter(torch.randn(4,4)),\n",
    "        'linear2':nn.Parameter(torch.randn(4,1))}\n",
    "                                      )\n",
    "        self.params.update({'linear3':nn.Parameter(torch.randn(4,2))})#新增参数\n",
    "    def forward(self,x,choice = 'linear1'):\n",
    "        return torch.mm(x,self.params[choice])"
   ]
  },
  {
   "cell_type": "code",
   "execution_count": 21,
   "id": "7bde575c-5c4f-4904-803f-3625b0ab922b",
   "metadata": {},
   "outputs": [
    {
     "name": "stdout",
     "output_type": "stream",
     "text": [
      "MyDictDense(\n",
      "  (params): ParameterDict(\n",
      "      (linear1): Parameter containing: [torch.FloatTensor of size 4x4]\n",
      "      (linear2): Parameter containing: [torch.FloatTensor of size 4x1]\n",
      "      (linear3): Parameter containing: [torch.FloatTensor of size 4x2]\n",
      "  )\n",
      ")\n"
     ]
    }
   ],
   "source": [
    "net = MyDictDense()\n",
    "print(net)"
   ]
  },
  {
   "cell_type": "code",
   "execution_count": 22,
   "id": "7eb8c8f6-a132-4154-809b-ec6d777334f2",
   "metadata": {},
   "outputs": [
    {
     "name": "stdout",
     "output_type": "stream",
     "text": [
      "tensor([[-1.6026,  0.7970, -0.4361, -0.1573]], grad_fn=<MmBackward0>)\n",
      "tensor([[-1.5955]], grad_fn=<MmBackward0>)\n",
      "tensor([[ 0.5336, -3.9820]], grad_fn=<MmBackward0>)\n"
     ]
    }
   ],
   "source": [
    "#可以用传入的键值来进行不同的前向传播\n",
    "x = torch.ones(1,4)\n",
    "print(net(x,'linear1'))\n",
    "print(net(x,'linear2'))\n",
    "print(net(x,'linear3'))"
   ]
  },
  {
   "cell_type": "code",
   "execution_count": 25,
   "id": "c13b6e11-e6db-4d33-85f3-5fa5aa757c0c",
   "metadata": {},
   "outputs": [
    {
     "name": "stdout",
     "output_type": "stream",
     "text": [
      "Sequential(\n",
      "  (0): MyDictDense(\n",
      "    (params): ParameterDict(\n",
      "        (linear1): Parameter containing: [torch.FloatTensor of size 4x4]\n",
      "        (linear2): Parameter containing: [torch.FloatTensor of size 4x1]\n",
      "        (linear3): Parameter containing: [torch.FloatTensor of size 4x2]\n",
      "    )\n",
      "  )\n",
      "  (1): MyDense(\n",
      "    (params): ParameterList(\n",
      "        (0): Parameter containing: [torch.float32 of size 4x4]\n",
      "        (1): Parameter containing: [torch.float32 of size 4x4]\n",
      "        (2): Parameter containing: [torch.float32 of size 4x4]\n",
      "        (3): Parameter containing: [torch.float32 of size 4x1]\n",
      "    )\n",
      "  )\n",
      ")\n",
      "tensor([[6.8394]], grad_fn=<MmBackward0>)\n"
     ]
    }
   ],
   "source": [
    "#也可以使用上面的自定义的层构造模型\n",
    "net = nn.Sequential(\n",
    "    MyDictDense(),\n",
    "    MyDense(),)\n",
    "print(net)\n",
    "print(net(x))"
   ]
  },
  {
   "cell_type": "code",
   "execution_count": null,
   "id": "28b449f5-b05b-4bc5-b19c-9e31aa51b6fe",
   "metadata": {},
   "outputs": [],
   "source": []
  }
 ],
 "metadata": {
  "kernelspec": {
   "display_name": "Python(pytorch)",
   "language": "python",
   "name": "pytorch"
  },
  "language_info": {
   "codemirror_mode": {
    "name": "ipython",
    "version": 3
   },
   "file_extension": ".py",
   "mimetype": "text/x-python",
   "name": "python",
   "nbconvert_exporter": "python",
   "pygments_lexer": "ipython3",
   "version": "3.10.18"
  }
 },
 "nbformat": 4,
 "nbformat_minor": 5
}
