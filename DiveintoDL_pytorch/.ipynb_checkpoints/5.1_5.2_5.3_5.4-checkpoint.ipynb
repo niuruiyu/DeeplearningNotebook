{
 "cells": [
  {
   "cell_type": "code",
   "execution_count": 1,
   "id": "6c5f71e3-4f2e-475a-a1ba-94f747fa8996",
   "metadata": {},
   "outputs": [],
   "source": [
    "#省书中的卷积，卷积核的文字介绍\n",
    "import torch\n",
    "from torch import nn\n",
    "#输入X，卷积核K，输出Y\n",
    "#这里是二位互相关运算\n",
    "def corr2d(X,K):\n",
    "    h,w = K.shape\n",
    "    Y = torch.zeros(X.shape[0]-h+1,X.shape[1]-w+1)#Y的shape,这里默认的stride=1，padding=0\n",
    "    for i in range(Y.shape[0]):\n",
    "        for j in range(Y.shape[1]):\n",
    "                    Y[i,j] = (X[i:i+h,j:j+w]*K).sum()#卷积运算实质\n",
    "    return Y\n",
    "    "
   ]
  },
  {
   "cell_type": "code",
   "execution_count": 2,
   "id": "4db8debd-c821-4fdf-b274-7a71db98fa01",
   "metadata": {},
   "outputs": [
    {
     "name": "stdout",
     "output_type": "stream",
     "text": [
      "tensor([[19., 25.],\n",
      "        [37., 43.]])\n"
     ]
    }
   ],
   "source": [
    "#构造一个X，K进行验证\n",
    "X = torch.tensor([[0,1,2],\n",
    "                  [3,4,5],\n",
    "                  [6,7,8]])\n",
    "K = torch.tensor([[0,1],\n",
    "                  [2,3]])\n",
    "Y = corr2d(X,K)\n",
    "print(Y)"
   ]
  },
  {
   "cell_type": "code",
   "execution_count": 3,
   "id": "0251f02c-852b-445f-ac28-1d97029c5527",
   "metadata": {},
   "outputs": [],
   "source": [
    "#二维卷积层就是：将输入和卷积核做互相关运算，再加上一个标量bias的老输出\n",
    "#所以卷积层的模型参数包括：卷积核+标量bias\n",
    "#下面实现一个自定义的二维卷积层\n",
    "class Conv2D(nn.Module):\n",
    "    def __init__(self,kernel_size):\n",
    "        super(Conv2D,self).__init__()\n",
    "        self.weight = nn.Parameter(torch.randn(kernel_size))\n",
    "        self.bias = nn.Parameter(torch.randn(1))\n",
    "    def forward(self,x):\n",
    "        return corr2d(x,self.weight)+self.bias"
   ]
  },
  {
   "cell_type": "code",
   "execution_count": 4,
   "id": "449f3314-984b-4f2e-9cba-24f4d96b79ac",
   "metadata": {},
   "outputs": [
    {
     "data": {
      "text/plain": [
       "tensor([[1., 1., 0., 0., 0., 0., 1., 1.],\n",
       "        [1., 1., 0., 0., 0., 0., 1., 1.],\n",
       "        [1., 1., 0., 0., 0., 0., 1., 1.],\n",
       "        [1., 1., 0., 0., 0., 0., 1., 1.],\n",
       "        [1., 1., 0., 0., 0., 0., 1., 1.],\n",
       "        [1., 1., 0., 0., 0., 0., 1., 1.]])"
      ]
     },
     "execution_count": 4,
     "metadata": {},
     "output_type": "execute_result"
    }
   ],
   "source": [
    "#下面进行一个卷积层的简单应用：检测图像中物体的边缘（找到像素变化的位置）\n",
    "#先构造一张图片，大小是6*8，中间四列时0，其余时1\n",
    "X = torch.ones(6,8)\n",
    "X[:,2:6] = 0\n",
    "X"
   ]
  },
  {
   "cell_type": "code",
   "execution_count": 5,
   "id": "8b75be8c-5030-4847-95ba-03abf7db1bb5",
   "metadata": {},
   "outputs": [
    {
     "data": {
      "text/plain": [
       "tensor([[ 0., -1.,  0.,  0.,  0.,  1.,  0.],\n",
       "        [ 0., -1.,  0.,  0.,  0.,  1.,  0.],\n",
       "        [ 0., -1.,  0.,  0.,  0.,  1.,  0.],\n",
       "        [ 0., -1.,  0.,  0.,  0.,  1.,  0.],\n",
       "        [ 0., -1.,  0.,  0.,  0.,  1.,  0.],\n",
       "        [ 0., -1.,  0.,  0.,  0.,  1.,  0.]])"
      ]
     },
     "execution_count": 5,
     "metadata": {},
     "output_type": "execute_result"
    }
   ],
   "source": [
    "#构造一个卷积核，kernel_size为1*2\n",
    "K = torch.tensor([[-1,1]])\n",
    "Y = corr2d(X,K)\n",
    "Y"
   ]
  },
  {
   "cell_type": "code",
   "execution_count": 6,
   "id": "5a926158-0865-42b0-80b6-204f0e0b3ddc",
   "metadata": {},
   "outputs": [
    {
     "name": "stdout",
     "output_type": "stream",
     "text": [
      "step 5,loss 2.165\n",
      "step 10,loss 0.404\n",
      "step 15,loss 0.090\n",
      "step 20,loss 0.023\n"
     ]
    }
   ],
   "source": [
    "conv2d = Conv2D(kernel_size=(1,2))\n",
    "#模型实例化\n",
    "step = 20\n",
    "lr = 0.01\n",
    "for i in range(step):\n",
    "    Y_hat = conv2d(X)\n",
    "    l = ((Y_hat - Y)**2).sum()\n",
    "    l.backward()\n",
    "    #梯度下降\n",
    "    conv2d.weight.data -= lr*conv2d.weight.grad\n",
    "    conv2d.bias.data -= lr*conv2d.bias.grad\n",
    "    #梯度清零\n",
    "    conv2d.weight.grad.fill_(0)\n",
    "    conv2d.bias.grad.fill_(0)\n",
    "    if(i+1)%5==0:\n",
    "        print('step %d,loss %.3f' %(i+1,l.item()))"
   ]
  },
  {
   "cell_type": "code",
   "execution_count": 7,
   "id": "6dc69ff2-804d-4779-bcdc-04da707b5b48",
   "metadata": {},
   "outputs": [
    {
     "name": "stdout",
     "output_type": "stream",
     "text": [
      "weight: tensor([[-0.9689,  0.9574]])\n",
      "bias: tensor([0.0065])\n"
     ]
    }
   ],
   "source": [
    "print(\"weight:\",conv2d.weight.data)\n",
    "print(\"bias:\",conv2d.bias.data)"
   ]
  },
  {
   "cell_type": "markdown",
   "id": "e38f5e20-8110-48ba-957e-d9ca5a991e92",
   "metadata": {},
   "source": [
    "填充和步幅"
   ]
  },
  {
   "cell_type": "code",
   "execution_count": 9,
   "id": "083044b0-7aa0-4fec-ba7f-f7e023a130e8",
   "metadata": {},
   "outputs": [],
   "source": [
    "#定义一个函数来计算卷积层，他对输入和输出做相应的升维和降维\n",
    "def comp_conv2d(conv2d,X):\n",
    "    #（1，1）代表批次大小和通道数\n",
    "    X = X.view((1,1)+X.shape)\n",
    "    Y = conv2d(X)\n",
    "    return Y.view(Y.shape[2:])#排除添加的前两维即批次和通道数\n"
   ]
  },
  {
   "cell_type": "code",
   "execution_count": 11,
   "id": "717f85f8-6ff7-4354-a3b0-cb03e911bd6b",
   "metadata": {},
   "outputs": [
    {
     "data": {
      "text/plain": [
       "torch.Size([8, 8])"
      ]
     },
     "execution_count": 11,
     "metadata": {},
     "output_type": "execute_result"
    }
   ],
   "source": [
    "conv2d = nn.Conv2d(in_channels = 1,out_channels = 1,kernel_size = 3,padding =1)\n",
    "#两侧分别填充1行,或列，所以在两侧一共填充两行或列\n",
    "X = torch.rand(8,8)\n",
    "comp_conv2d(conv2d,X).shape"
   ]
  },
  {
   "cell_type": "code",
   "execution_count": 12,
   "id": "ba99e6df-015a-45ec-888b-240788985e7c",
   "metadata": {},
   "outputs": [],
   "source": [
    "#后面都是基础的内容省去了，LeNet，AlexNet，VGG，GoogLeNet在part1部分有总结，拍project部分也有实战代码，可以直接去看"
   ]
  },
  {
   "cell_type": "code",
   "execution_count": null,
   "id": "d06e11e0-2723-45da-b035-30ec9a29b987",
   "metadata": {},
   "outputs": [],
   "source": []
  }
 ],
 "metadata": {
  "kernelspec": {
   "display_name": "Python(pytorch)",
   "language": "python",
   "name": "pytorch"
  },
  "language_info": {
   "codemirror_mode": {
    "name": "ipython",
    "version": 3
   },
   "file_extension": ".py",
   "mimetype": "text/x-python",
   "name": "python",
   "nbconvert_exporter": "python",
   "pygments_lexer": "ipython3",
   "version": "3.10.18"
  }
 },
 "nbformat": 4,
 "nbformat_minor": 5
}
