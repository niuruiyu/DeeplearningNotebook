{
 "cells": [
  {
   "cell_type": "code",
   "execution_count": 1,
   "id": "147a58a7-2221-4e66-ab8e-ea30cc367426",
   "metadata": {},
   "outputs": [],
   "source": [
    "import torch\n",
    "from torch import nn\n",
    "from torch.nn import init\n",
    "import numpy as np\n",
    "import sys\n",
    "import d2lzh_pytorch as d2l\n",
    "import torchvision\n",
    "import torchvision.transforms as transforms"
   ]
  },
  {
   "cell_type": "markdown",
   "id": "47990d67-b1a9-405b-8a17-609711108925",
   "metadata": {},
   "source": [
    "## 1.定义模型\n",
    "这里有两层神经网络，一层是隐藏层，一层做输出层"
   ]
  },
  {
   "cell_type": "code",
   "execution_count": 2,
   "id": "29f1d52b-c2bb-41c8-b1b1-61fe88f638e9",
   "metadata": {},
   "outputs": [],
   "source": [
    "num_inputs = 28*28\n",
    "num_outputs = 10\n",
    "num_hiddens = 256\n",
    "net = nn.Sequential(\n",
    "    d2l.FlattenLayer(),\n",
    "    nn.Linear(num_inputs,num_hiddens),\n",
    "    nn.ReLU(),\n",
    "    nn.Linear(num_hiddens,num_outputs)\n",
    ")\n",
    "for params in net.parameters():\n",
    "    init.normal_(params,mean = 0,std = 0.01)"
   ]
  },
  {
   "cell_type": "markdown",
   "id": "7d3819d2-8a3f-4ee3-ac34-378476db4ce9",
   "metadata": {},
   "source": [
    "## 2.读取数据\n",
    "书中的同样使用了封装好的函数  \n",
    "我这里所有的读取数据使用的都是torch包的源代码"
   ]
  },
  {
   "cell_type": "code",
   "execution_count": 3,
   "id": "38809572-d4db-4ea6-9119-7eae5fe92108",
   "metadata": {},
   "outputs": [],
   "source": [
    "train_data = torchvision.datasets.FashionMNIST(root = '~/DataSets/FashionMNIST',train = True,download = True,transform = transforms.ToTensor())\n",
    "test_data = torchvision.datasets.FashionMNIST(root = '~/DataSets/FashionMNIST',train = False,download = True,transform = transforms.ToTensor())\n",
    "if sys.platform.startswith('win'):\n",
    "    num_workers = 0\n",
    "else:\n",
    "    num_workers = 4\n",
    "batch_size = 256\n",
    "train_iter = torch.utils.data.DataLoader(train_data,batch_size,shuffle = True,num_workers= num_workers)\n",
    "test_iter = torch.utils.data.DataLoader(test_data,batch_size,shuffle = True,num_workers = num_workers)\n",
    "                    "
   ]
  },
  {
   "cell_type": "markdown",
   "id": "331b7e81-fdeb-48f5-b7cf-2896207c2dd7",
   "metadata": {},
   "source": [
    "## 3.设定好训练需要的东西\n",
    "包括优化算法和loss函数，以及各种超参数"
   ]
  },
  {
   "cell_type": "code",
   "execution_count": 5,
   "id": "96b1ab39-73a5-4d57-aad1-8acac226cf2e",
   "metadata": {},
   "outputs": [
    {
     "name": "stderr",
     "output_type": "stream",
     "text": [
      "D:\\Users\\Lenovo\\source\\githubrepository\\DeeplearingNotebook\\DiveintoDL_pytorch\\d2lzh_pytorch.py:81: UserWarning: Converting a tensor with requires_grad=True to a scalar may lead to unexpected behavior.\n",
      "Consider using tensor.detach() first. (Triggered internally at C:\\actions-runner\\_work\\pytorch\\pytorch\\pytorch\\torch\\csrc\\autograd\\generated\\python_variable_methods.cpp:836.)\n",
      "  print('epoch %d,loss%.4f,train acc %.3f,test acc %.3f'\n"
     ]
    },
    {
     "name": "stdout",
     "output_type": "stream",
     "text": [
      "epoch 1,loss0.0032,train acc 0.702,test acc 0.746\n",
      "epoch 2,loss0.0019,train acc 0.816,test acc 0.811\n",
      "epoch 3,loss0.0017,train acc 0.839,test acc 0.835\n",
      "epoch 4,loss0.0015,train acc 0.853,test acc 0.803\n",
      "epoch 5,loss0.0015,train acc 0.863,test acc 0.841\n"
     ]
    }
   ],
   "source": [
    "loss = torch.nn.CrossEntropyLoss()\n",
    "optimizer = torch.optim.SGD(net.parameters(),lr = 0.5)\n",
    "num_epochs=5\n",
    "#上一节softmax的实现中有一次手动进行了模型训练，这里将模型训练的函数放到了D2L中，此处直接调用\n",
    "d2l.train_ch3(net,train_iter,test_iter,loss,num_epochs,batch_size,None,None,optimizer)"
   ]
  },
  {
   "cell_type": "markdown",
   "id": "8cd70950-fd39-439d-8666-a77e86428c64",
   "metadata": {},
   "source": [
    "实质上这一节和之前线性和softmax不同的地方就只在于这里构建模型使用了Sequential构建了两层的神经网络，可以称之为块，后续也会用到。"
   ]
  },
  {
   "cell_type": "code",
   "execution_count": null,
   "id": "3e29b314-4008-4c06-a3b8-02fae78c3d2d",
   "metadata": {},
   "outputs": [],
   "source": []
  }
 ],
 "metadata": {
  "kernelspec": {
   "display_name": "Python(pytorch)",
   "language": "python",
   "name": "pytorch"
  },
  "language_info": {
   "codemirror_mode": {
    "name": "ipython",
    "version": 3
   },
   "file_extension": ".py",
   "mimetype": "text/x-python",
   "name": "python",
   "nbconvert_exporter": "python",
   "pygments_lexer": "ipython3",
   "version": "3.10.18"
  }
 },
 "nbformat": 4,
 "nbformat_minor": 5
}
