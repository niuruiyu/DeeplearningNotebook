{
 "cells": [
  {
   "cell_type": "code",
   "execution_count": 5,
   "id": "4d7ff8b9-e713-4b31-a660-9d94e0f4b8a2",
   "metadata": {},
   "outputs": [],
   "source": [
    "#导入需要的库\n",
    "%matplotlib inline\n",
    "import torch\n",
    "import torch.nn as nn\n",
    "import numpy as np\n",
    "import pandas as pd\n",
    "import sys \n",
    "import d2lzh_pytorch as d2l"
   ]
  },
  {
   "cell_type": "code",
   "execution_count": 6,
   "id": "2620ee45-1ca3-4e37-8960-6a0666a05d30",
   "metadata": {},
   "outputs": [
    {
     "name": "stdout",
     "output_type": "stream",
     "text": [
      "2.8.0+cu126\n"
     ]
    }
   ],
   "source": [
    "print(torch.__version__)\n",
    "#torch.set_default_tensor_type(torch.FloatTensor)在2.1和更高的版本中弃用\n"
   ]
  },
  {
   "cell_type": "code",
   "execution_count": 7,
   "id": "01651b70-0433-4785-823f-ded61e6e4582",
   "metadata": {},
   "outputs": [],
   "source": [
    "#读取数据，使用pandas来读取\n",
    "train_data = pd.read_csv('./data/kaggle_house/train.csv')\n",
    "test_data = pd.read_csv('./data/kaggle_house/test.csv')"
   ]
  },
  {
   "cell_type": "code",
   "execution_count": 8,
   "id": "89e629a6-abcc-48d7-8e4d-41fc591b748e",
   "metadata": {},
   "outputs": [
    {
     "data": {
      "text/plain": [
       "(1460, 81)"
      ]
     },
     "execution_count": 8,
     "metadata": {},
     "output_type": "execute_result"
    }
   ],
   "source": [
    "#看一下数据的类型\n",
    "train_data.shape#有1460个样本，80个特征，一个标签"
   ]
  },
  {
   "cell_type": "code",
   "execution_count": 9,
   "id": "2169a954-097b-484f-8b99-86581ed05174",
   "metadata": {},
   "outputs": [
    {
     "data": {
      "text/plain": [
       "(1459, 80)"
      ]
     },
     "execution_count": 9,
     "metadata": {},
     "output_type": "execute_result"
    }
   ],
   "source": [
    "test_data.shape#测试机有1459个样本和80个特征，需要吧测试数据集的每个样本标签预测出来"
   ]
  },
  {
   "cell_type": "code",
   "execution_count": 10,
   "id": "76a48510-5f7f-45d6-a871-55a63c8dd51a",
   "metadata": {},
   "outputs": [
    {
     "data": {
      "text/html": [
       "<div>\n",
       "<style scoped>\n",
       "    .dataframe tbody tr th:only-of-type {\n",
       "        vertical-align: middle;\n",
       "    }\n",
       "\n",
       "    .dataframe tbody tr th {\n",
       "        vertical-align: top;\n",
       "    }\n",
       "\n",
       "    .dataframe thead th {\n",
       "        text-align: right;\n",
       "    }\n",
       "</style>\n",
       "<table border=\"1\" class=\"dataframe\">\n",
       "  <thead>\n",
       "    <tr style=\"text-align: right;\">\n",
       "      <th></th>\n",
       "      <th>Id</th>\n",
       "      <th>MSSubClass</th>\n",
       "      <th>MSZoning</th>\n",
       "      <th>LotFrontage</th>\n",
       "      <th>SaleType</th>\n",
       "      <th>SaleCondition</th>\n",
       "      <th>SalePrice</th>\n",
       "    </tr>\n",
       "  </thead>\n",
       "  <tbody>\n",
       "    <tr>\n",
       "      <th>0</th>\n",
       "      <td>1</td>\n",
       "      <td>60</td>\n",
       "      <td>RL</td>\n",
       "      <td>65.0</td>\n",
       "      <td>WD</td>\n",
       "      <td>Normal</td>\n",
       "      <td>208500</td>\n",
       "    </tr>\n",
       "    <tr>\n",
       "      <th>1</th>\n",
       "      <td>2</td>\n",
       "      <td>20</td>\n",
       "      <td>RL</td>\n",
       "      <td>80.0</td>\n",
       "      <td>WD</td>\n",
       "      <td>Normal</td>\n",
       "      <td>181500</td>\n",
       "    </tr>\n",
       "    <tr>\n",
       "      <th>2</th>\n",
       "      <td>3</td>\n",
       "      <td>60</td>\n",
       "      <td>RL</td>\n",
       "      <td>68.0</td>\n",
       "      <td>WD</td>\n",
       "      <td>Normal</td>\n",
       "      <td>223500</td>\n",
       "    </tr>\n",
       "    <tr>\n",
       "      <th>3</th>\n",
       "      <td>4</td>\n",
       "      <td>70</td>\n",
       "      <td>RL</td>\n",
       "      <td>60.0</td>\n",
       "      <td>WD</td>\n",
       "      <td>Abnorml</td>\n",
       "      <td>140000</td>\n",
       "    </tr>\n",
       "  </tbody>\n",
       "</table>\n",
       "</div>"
      ],
      "text/plain": [
       "   Id  MSSubClass MSZoning  LotFrontage SaleType SaleCondition  SalePrice\n",
       "0   1          60       RL         65.0       WD        Normal     208500\n",
       "1   2          20       RL         80.0       WD        Normal     181500\n",
       "2   3          60       RL         68.0       WD        Normal     223500\n",
       "3   4          70       RL         60.0       WD       Abnorml     140000"
      ]
     },
     "execution_count": 10,
     "metadata": {},
     "output_type": "execute_result"
    }
   ],
   "source": [
    "#查看前四个样本的前四个特征，后两个特征和标签\n",
    "train_data.iloc[0:4,[0,1,2,3,-3,-2,-1]]"
   ]
  },
  {
   "cell_type": "markdown",
   "id": "c1dd4577-5e1b-40f7-8147-39a2868bdd48",
   "metadata": {},
   "source": [
    "可以看到第一个特征是id，可以帮助模型记住每个训练样本，但是难以推广到测试样本，所以id不进入训练，所以要把训练数据和测试数据按后面的79个特征连结"
   ]
  },
  {
   "cell_type": "code",
   "execution_count": 11,
   "id": "5fa6835c-2a82-43f3-9f62-7b291d357030",
   "metadata": {},
   "outputs": [
    {
     "data": {
      "text/plain": [
       "(2919, 79)"
      ]
     },
     "execution_count": 11,
     "metadata": {},
     "output_type": "execute_result"
    }
   ],
   "source": [
    "all_features = pd.concat((train_data.iloc[:,1:-1],test_data.iloc[:,1:-1]))\n",
    "#这里将训练集和测试机的特定纵向拼接成一个新的dataframe，虽然train的-1列是label，但是按列拼接后就只剩features了\n",
    "all_features.shape#纵向拼接，只剩79个features（因为test无label"
   ]
  },
  {
   "cell_type": "code",
   "execution_count": 12,
   "id": "b7014054-da23-4e87-b89b-b93d80c2f9cd",
   "metadata": {},
   "outputs": [],
   "source": [
    "#进行数据预处理\n",
    "numeric_features = all_features.dtypes[all_features.dtypes != 'object'].index\n",
    "#得到特征中是数值类型（int，float）的index、\n",
    "all_features[numeric_features] = all_features[numeric_features].apply(lambda x:(x-x.mean())/(x.std()))\n",
    "#上面是对数据类型为数值的特征进行标准化（标准化就是-mean再/std\n",
    "#标准化后，每个数值特征的均值就变成了零，所以对于缺失值，可以直接赋为0\n",
    "all_features[numeric_features] = all_features[numeric_features].fillna(0)"
   ]
  },
  {
   "cell_type": "code",
   "execution_count": 13,
   "id": "38a924fe-2651-4a96-b4e9-b25d96778da1",
   "metadata": {},
   "outputs": [
    {
     "data": {
      "text/plain": [
       "(2919, 331)"
      ]
     },
     "execution_count": 13,
     "metadata": {},
     "output_type": "execute_result"
    }
   ],
   "source": [
    "#将离散数值转为指示特征，假设特征MSZoning里面有两个不同的离散值RL和RM，那么这一步转换将去掉MSZoning特征，并新加两个特征MSZoning_RL和MSZoning_RM，其值为0或1。如果一个样本原来在MSZoning里的值为RL，那么有MSZoning_RL=1且MSZoning_RM=0。\n",
    "all_features = pd.get_dummies(all_features,dummy_na = True)\n",
    "all_features.shape#进行特征的处理后"
   ]
  },
  {
   "cell_type": "code",
   "execution_count": 14,
   "id": "33093dec-0305-4a92-afc2-3034e76d8a56",
   "metadata": {},
   "outputs": [],
   "source": [
    "#类型转换\n",
    "n_train = train_data.shape[0]\n",
    "train_features = torch.tensor(all_features[:n_train].values,dtype=torch.float)\n",
    "#通过..values将dataframe转成numpy，然后再转成tensor\n",
    "test_features = torch.tensor(all_features[n_train:].values,dtype = torch.float)\n",
    "#得到labels\n",
    "train_labels = torch.tensor(train_data.SalePrice.values,dtype = torch.float).view(-1,1)\n",
    "#这里train_labels转成1460，1的shape,第一维是样本数量，第二维是label\n",
    "#考虑后续能不能对labels进行归一化"
   ]
  },
  {
   "cell_type": "code",
   "execution_count": 15,
   "id": "4772518e-d886-41e2-bde8-3ce576eb42b6",
   "metadata": {},
   "outputs": [],
   "source": [
    "#这里使用一个基本的线性回归模型和平方损失函数来训练模型\n",
    "loss = torch.nn.MSELoss()\n",
    "def get_net(feature_num):\n",
    "    net = nn.Linear(features_num,1)\n",
    "    for param in net.parameters():\n",
    "        nn.init.normal_(param,mean=0,std= 0.01)\n",
    "    return net"
   ]
  },
  {
   "cell_type": "code",
   "execution_count": 16,
   "id": "7bee5c21-2c80-48ad-b05b-69f0a0fb3908",
   "metadata": {},
   "outputs": [],
   "source": [
    "#定义均方根误差\n",
    "def log_rmse(net,features,labels):\n",
    "    with torch.no_grad():\n",
    "        clipped_preds = torch.max(net(features),torch.tensor(1.0))\n",
    "        rmse = torch.sqrt(loss(clipped_pred.log(),labels.log()))\n",
    "        return rmse.item()\n",
    "        "
   ]
  },
  {
   "cell_type": "code",
   "execution_count": 17,
   "id": "2ce160f2-7e41-4c5a-b79c-3f2dee8c9dd7",
   "metadata": {},
   "outputs": [],
   "source": [
    "# 定义训练函数\n",
    "def train(net,train_features,train_labels,test_features,test_labels,num_epochs,learning_rate,weight_decay,batch_size):\n",
    "    train_ls,tets_ls=[],[]\n",
    "    dataset = torch.utils.data.TensorDataset(train_features,train_labels)\n",
    "    trian_iter = torch.utils.data.DataLoader(dataset,batch_size,shuffle = True)\n",
    "    #使用adam优化算法\n",
    "    optimizer = torch.optim.Adam(params = net.parameters(),lr = learning_rate,weight_decay=weight_decay)\n",
    "    net = net.float()\n",
    "    for epoch in range(num_epochs):\n",
    "        for X,y in train_iter:\n",
    "            l = loss(net(X.float()),y.float())\n",
    "            optimizer.zero_grad()\n",
    "            l.backwar()\n",
    "            optimizer.step()\n",
    "        train_ls.appen(log_rmse(net,trin_features,train_labels))\n",
    "        if test_labels is not None:\n",
    "            test_ls.append(log_rmse(net,test_features,test_labels))\n",
    "        return train_ls,test_ls\n",
    "        "
   ]
  },
  {
   "cell_type": "code",
   "execution_count": 18,
   "id": "010b0090-0456-403b-9b83-307f55e679c0",
   "metadata": {},
   "outputs": [],
   "source": [
    "#k折交叉验证（用来选择模型设计和调节超参数，下面的函数用来返回第i折交叉验证时所需要的训练和验证数据\n",
    "def get_k_fold_data(k,i,X,y):#返回第i折交叉验证时所需要的训练和验证数据\n",
    "    assert k>1\n",
    "    fold_size = X.shape[0]//k#计算每折的大小\n",
    "    X_train,y_train = None,None\n",
    "    for j in range(k):#遍历每一折\n",
    "        idx = slice(j*fold_size,(j+1)*fold_size)#计算当前折的索引范围\n",
    "        X_part,y_part = X[idx,:],y[idx]#提取当前折的数据\n",
    "        if j==i:#如果是第i折，就作为验证机\n",
    "            X_valid,y_valid = X_part,y_part\n",
    "        elif X_trian is None:#如果是第一折，做训练数据\n",
    "            X_train,y_train = X_part,y_part\n",
    "\n",
    "        else:#其他折纵向拼接到训练数据下面\n",
    "            X_train = torch.cat((X_train,X_part),dim=0)\n",
    "            y_train = torch.cat((y_train,y_part),dim=0)\n",
    "    return X_train,y_train,X_valid,y_valid"
   ]
  },
  {
   "cell_type": "code",
   "execution_count": 19,
   "id": "91a733be-85c0-4f82-840f-bc4d7bab3b11",
   "metadata": {},
   "outputs": [],
   "source": [
    "#在k折交叉验证中我们训练k次，并返回训练和验证的平均误差\n",
    "def k_fold(k,X_train,y_train,num_epochs,learning_rate,weight_decay,batch_size):\n",
    "    rain_l_sum = 0\n",
    "    valid_l_sum = 0\n",
    "    for i in range(k):\n",
    "        data = get_k_fold_data(k,i,X_train,y_train)#得到数据\n",
    "        net = get_net(X_train.shape[1])#这里x——train是三维数据，第二维是batch\n",
    "        train_l_sum+= trian_ls[-1]#累加每次训练的loss\n",
    "        valid_l_sum+= test_ls[-1]#累加每次验证的loss\n",
    "        if i==0:\n",
    "            d2l.semilogy(range(1,num_epochs+1),trian_ls,'epochs','rmse',\n",
    "                         range(1,num_epochs+1),valid_ls,['train','valid'])\n",
    "            print(\"fold %d, trian rmse %f,valid rmse %f\" % (i,train_ls[-1],valid_ls[-1]))\n",
    "        return train_l_sim/k,valid_l_sum/k#得到训练集和验证集 的平均loss作为这一轮的loss\n",
    "        "
   ]
  },
  {
   "cell_type": "code",
   "execution_count": 22,
   "id": "814c0f96-9689-414b-b6fd-604db190e326",
   "metadata": {},
   "outputs": [
    {
     "ename": "NameError",
     "evalue": "name 'X_trian' is not defined",
     "output_type": "error",
     "traceback": [
      "\u001b[1;31m---------------------------------------------------------------------------\u001b[0m",
      "\u001b[1;31mNameError\u001b[0m                                 Traceback (most recent call last)",
      "Cell \u001b[1;32mIn[22], line 3\u001b[0m\n\u001b[0;32m      1\u001b[0m \u001b[38;5;66;03m#这里设置超参数，之后有改动\u001b[39;00m\n\u001b[0;32m      2\u001b[0m k,num_epochs,lr,weight_decay,batch_size \u001b[38;5;241m=\u001b[39m \u001b[38;5;241m5\u001b[39m,\u001b[38;5;241m100\u001b[39m,\u001b[38;5;241m5\u001b[39m,\u001b[38;5;241m0\u001b[39m,\u001b[38;5;241m64\u001b[39m\n\u001b[1;32m----> 3\u001b[0m train_l ,valid_l \u001b[38;5;241m=\u001b[39m \u001b[43mk_fold\u001b[49m\u001b[43m(\u001b[49m\u001b[43mk\u001b[49m\u001b[43m,\u001b[49m\u001b[43mtrain_features\u001b[49m\u001b[43m,\u001b[49m\u001b[43mtrain_labels\u001b[49m\u001b[43m,\u001b[49m\u001b[43mnum_epochs\u001b[49m\u001b[43m,\u001b[49m\u001b[43mlr\u001b[49m\u001b[43m,\u001b[49m\u001b[43mweight_decay\u001b[49m\u001b[43m,\u001b[49m\u001b[43mbatch_size\u001b[49m\u001b[43m)\u001b[49m\n\u001b[0;32m      4\u001b[0m \u001b[38;5;28mprint\u001b[39m(\u001b[38;5;124m'\u001b[39m\u001b[38;5;132;01m%d\u001b[39;00m\u001b[38;5;124m-fold validation:avg train rmse \u001b[39m\u001b[38;5;132;01m%f\u001b[39;00m\u001b[38;5;124m,avg valid rmse \u001b[39m\u001b[38;5;132;01m%f\u001b[39;00m\u001b[38;5;124m'\u001b[39m \u001b[38;5;241m%\u001b[39m (k,train_l,valid_l))\n",
      "Cell \u001b[1;32mIn[19], line 6\u001b[0m, in \u001b[0;36mk_fold\u001b[1;34m(k, X_train, y_train, num_epochs, learning_rate, weight_decay, batch_size)\u001b[0m\n\u001b[0;32m      4\u001b[0m valid_l_sum \u001b[38;5;241m=\u001b[39m \u001b[38;5;241m0\u001b[39m\n\u001b[0;32m      5\u001b[0m \u001b[38;5;28;01mfor\u001b[39;00m i \u001b[38;5;129;01min\u001b[39;00m \u001b[38;5;28mrange\u001b[39m(k):\n\u001b[1;32m----> 6\u001b[0m     data \u001b[38;5;241m=\u001b[39m \u001b[43mget_k_fold_data\u001b[49m\u001b[43m(\u001b[49m\u001b[43mk\u001b[49m\u001b[43m,\u001b[49m\u001b[43mi\u001b[49m\u001b[43m,\u001b[49m\u001b[43mX_train\u001b[49m\u001b[43m,\u001b[49m\u001b[43my_train\u001b[49m\u001b[43m)\u001b[49m\u001b[38;5;66;03m#得到数据\u001b[39;00m\n\u001b[0;32m      7\u001b[0m     net \u001b[38;5;241m=\u001b[39m get_net(X_train\u001b[38;5;241m.\u001b[39mshape[\u001b[38;5;241m1\u001b[39m])\u001b[38;5;66;03m#这里x——train是三维数据，第二维是batch\u001b[39;00m\n\u001b[0;32m      8\u001b[0m     train_l_sum\u001b[38;5;241m+\u001b[39m\u001b[38;5;241m=\u001b[39m trian_ls[\u001b[38;5;241m-\u001b[39m\u001b[38;5;241m1\u001b[39m]\u001b[38;5;66;03m#累加每次训练的loss\u001b[39;00m\n",
      "Cell \u001b[1;32mIn[18], line 11\u001b[0m, in \u001b[0;36mget_k_fold_data\u001b[1;34m(k, i, X, y)\u001b[0m\n\u001b[0;32m      9\u001b[0m \u001b[38;5;28;01mif\u001b[39;00m j\u001b[38;5;241m==\u001b[39mi:\u001b[38;5;66;03m#如果是第i折，就作为验证机\u001b[39;00m\n\u001b[0;32m     10\u001b[0m     X_valid,y_valid \u001b[38;5;241m=\u001b[39m X_part,y_part\n\u001b[1;32m---> 11\u001b[0m \u001b[38;5;28;01melif\u001b[39;00m \u001b[43mX_trian\u001b[49m \u001b[38;5;129;01mis\u001b[39;00m \u001b[38;5;28;01mNone\u001b[39;00m:\u001b[38;5;66;03m#如果是第一折，做训练数据\u001b[39;00m\n\u001b[0;32m     12\u001b[0m     X_train,y_train \u001b[38;5;241m=\u001b[39m X_part,y_part\n\u001b[0;32m     14\u001b[0m \u001b[38;5;28;01melse\u001b[39;00m:\u001b[38;5;66;03m#其他折纵向拼接到训练数据下面\u001b[39;00m\n",
      "\u001b[1;31mNameError\u001b[0m: name 'X_trian' is not defined"
     ]
    }
   ],
   "source": [
    "#这里设置超参数，之后有改动\n",
    "k,num_epochs,lr,weight_decay,batch_size = 5,100,5,0,64\n",
    "train_l ,valid_l = k_fold(k,train_features,train_labels,num_epochs,lr,weight_decay,batch_size)\n",
    "print('%d-fold validation:avg train rmse %f,avg valid rmse %f' % (k,train_l,valid_l))"
   ]
  },
  {
   "cell_type": "code",
   "execution_count": null,
   "id": "e4526517-53ef-4f7a-aab4-e6fdda26d12a",
   "metadata": {},
   "outputs": [],
   "source": []
  }
 ],
 "metadata": {
  "kernelspec": {
   "display_name": "Python(pytorch)",
   "language": "python",
   "name": "pytorch"
  },
  "language_info": {
   "codemirror_mode": {
    "name": "ipython",
    "version": 3
   },
   "file_extension": ".py",
   "mimetype": "text/x-python",
   "name": "python",
   "nbconvert_exporter": "python",
   "pygments_lexer": "ipython3",
   "version": "3.10.18"
  }
 },
 "nbformat": 4,
 "nbformat_minor": 5
}
