{
 "cells": [
  {
   "cell_type": "markdown",
   "id": "6649ca39-5ac1-40ce-9603-53d60ad6c293",
   "metadata": {},
   "source": [
    "学习如何把内存中训练好的模型参数存储在硬盘上供后续使用"
   ]
  },
  {
   "cell_type": "markdown",
   "id": "e1000078-38fe-4dd5-923f-bcaeeee7c05e",
   "metadata": {},
   "source": [
    "读写tensor"
   ]
  },
  {
   "cell_type": "code",
   "execution_count": 1,
   "id": "9749a962-8b06-4969-9ca1-eca0db8b16ee",
   "metadata": {},
   "outputs": [],
   "source": [
    "#save函数：存储tensor，可以保存各种对象，先把对象序列化再存到disk\n",
    "#load函数：读取tesnor，将保存的文件反序列化为内存\n",
    "import torch\n",
    "from torch import nn\n",
    "x = torch.ones(3)\n",
    "torch.save(x,'x.pt')\n"
   ]
  },
  {
   "cell_type": "code",
   "execution_count": 2,
   "id": "7ea75aa6-4bfa-43e2-b1b8-2dfc376920c7",
   "metadata": {},
   "outputs": [
    {
     "data": {
      "text/plain": [
       "tensor([1., 1., 1.])"
      ]
     },
     "execution_count": 2,
     "metadata": {},
     "output_type": "execute_result"
    }
   ],
   "source": [
    "#将数据从存储的 文件读回内存\n",
    "x2 = torch.load('x.pt')\n",
    "x2"
   ]
  },
  {
   "cell_type": "code",
   "execution_count": 3,
   "id": "c08fccb5-dba5-42d2-ac34-161465335393",
   "metadata": {},
   "outputs": [
    {
     "data": {
      "text/plain": [
       "[tensor([1., 1., 1.]), tensor([0., 0., 0., 0.])]"
      ]
     },
     "execution_count": 3,
     "metadata": {},
     "output_type": "execute_result"
    }
   ],
   "source": [
    "#还可以存储tensor的list\n",
    "y = torch.zeros(4)\n",
    "torch.save([x,y],'xy.pt')\n",
    "xy_list = torch.load('xy.pt')\n",
    "xy_list"
   ]
  },
  {
   "cell_type": "code",
   "execution_count": 4,
   "id": "49bc8482-b37a-4171-993f-543da9af2c59",
   "metadata": {},
   "outputs": [
    {
     "data": {
      "text/plain": [
       "{'x': tensor([1., 1., 1.]), 'y': tensor([0., 0., 0., 0.])}"
      ]
     },
     "execution_count": 4,
     "metadata": {},
     "output_type": "execute_result"
    }
   ],
   "source": [
    "#tensor的字典\n",
    "torch.save({'x':x,'y':y},'xy_dict.pt')\n",
    "xy = torch.load('xy_dict.pt')\n",
    "xy"
   ]
  },
  {
   "cell_type": "markdown",
   "id": "675aee7e-58ce-479e-a485-000d33ae1831",
   "metadata": {},
   "source": [
    "读写模型"
   ]
  },
  {
   "cell_type": "code",
   "execution_count": 7,
   "id": "5be5b0a4-7f05-49ee-a12f-5f03d23ab6fc",
   "metadata": {},
   "outputs": [],
   "source": [
    "#state_dict从参数名称隐射到参数tensor的字典对象\n",
    "class MLP(nn.Module):\n",
    "    def __init__(self):\n",
    "        super(MLP,self).__init__()\n",
    "        self.hidden = nn.Linear(3,2)\n",
    "        self.act = nn.ReLU()\n",
    "        self.output = nn.Linear(2,1)\n",
    "    def forward(self,x):\n",
    "        a = self.act(self.hidden(x))\n",
    "        return self.output(a)"
   ]
  },
  {
   "cell_type": "code",
   "execution_count": 8,
   "id": "4c327519-0bc7-4e3f-9ba0-e9f1cf6eb12d",
   "metadata": {},
   "outputs": [
    {
     "name": "stdout",
     "output_type": "stream",
     "text": [
      "MLP(\n",
      "  (hidden): Linear(in_features=3, out_features=2, bias=True)\n",
      "  (act): ReLU()\n",
      "  (output): Linear(in_features=2, out_features=1, bias=True)\n",
      ")\n"
     ]
    }
   ],
   "source": [
    "net = MLP()\n",
    "print(net)"
   ]
  },
  {
   "cell_type": "code",
   "execution_count": 12,
   "id": "adcb3654-7d06-4522-b76e-663661f69c3c",
   "metadata": {},
   "outputs": [
    {
     "data": {
      "text/plain": [
       "OrderedDict([('hidden.weight',\n",
       "              tensor([[ 0.1915, -0.2214,  0.3726],\n",
       "                      [ 0.0424,  0.3245,  0.4636]])),\n",
       "             ('hidden.bias', tensor([-0.2195, -0.1572])),\n",
       "             ('output.weight', tensor([[-0.2206,  0.6449]])),\n",
       "             ('output.bias', tensor([-0.3518]))])"
      ]
     },
     "execution_count": 12,
     "metadata": {},
     "output_type": "execute_result"
    }
   ],
   "source": [
    "net.state_dict()\n",
    "#只有可学习的层才有state_dict中的条目，优化器（optim）中也有一个state_dict"
   ]
  },
  {
   "cell_type": "code",
   "execution_count": 14,
   "id": "98c7ff5b-4bf1-482f-8b71-451c388569b4",
   "metadata": {},
   "outputs": [
    {
     "data": {
      "text/plain": [
       "{'state': {},\n",
       " 'param_groups': [{'lr': 0.001,\n",
       "   'momentum': 0.9,\n",
       "   'dampening': 0,\n",
       "   'weight_decay': 0,\n",
       "   'nesterov': False,\n",
       "   'maximize': False,\n",
       "   'foreach': None,\n",
       "   'differentiable': False,\n",
       "   'fused': None,\n",
       "   'params': [0, 1, 2, 3]}]}"
      ]
     },
     "execution_count": 14,
     "metadata": {},
     "output_type": "execute_result"
    }
   ],
   "source": [
    "optmizer = torch.optim.SGD(net.parameters(),lr = 0.001,momentum=0.9)\n",
    "optmizer.state_dict()"
   ]
  },
  {
   "cell_type": "markdown",
   "id": "d1a36d5f-660b-4642-a251-de4c80156f42",
   "metadata": {},
   "source": [
    "保存和加载模型"
   ]
  },
  {
   "cell_type": "code",
   "execution_count": 16,
   "id": "2973760f-771a-4beb-8d7e-7ed41c2b08b4",
   "metadata": {},
   "outputs": [],
   "source": [
    "#只保存和加载模型参数：state-dict\n",
    "#torch.save(model.state_dict(),PATH)\n",
    "#推荐的文件后缀名是pt或者pth"
   ]
  },
  {
   "cell_type": "code",
   "execution_count": 17,
   "id": "3cdad095-53df-4810-95b0-f2894bf869c8",
   "metadata": {},
   "outputs": [],
   "source": [
    "#保存和加载整个模型\n",
    "# torch.save(model,PATH)\n",
    "# model = torch.load(PATH)"
   ]
  },
  {
   "cell_type": "code",
   "execution_count": 19,
   "id": "42a3af81-66ad-46f2-ab55-4908763fcfae",
   "metadata": {},
   "outputs": [
    {
     "name": "stdout",
     "output_type": "stream",
     "text": [
      "tensor([[True],\n",
      "        [True]])\n"
     ]
    }
   ],
   "source": [
    "# 实现一下方法一\n",
    "X = torch.randn(2,3)\n",
    "Y= net(X)\n",
    "PATH = \"./net.pt\"\n",
    "torch.save(net.state_dict(),PATH)\n",
    "net2 = MLP()\n",
    "net2.load_state_dict(torch.load(PATH))\n",
    "Y2 = net2(X)\n",
    "print(Y2==Y)"
   ]
  },
  {
   "cell_type": "code",
   "execution_count": null,
   "id": "0c76b50e-c763-4dbf-9abe-e1c293149740",
   "metadata": {},
   "outputs": [],
   "source": []
  }
 ],
 "metadata": {
  "kernelspec": {
   "display_name": "Python(pytorch)",
   "language": "python",
   "name": "pytorch"
  },
  "language_info": {
   "codemirror_mode": {
    "name": "ipython",
    "version": 3
   },
   "file_extension": ".py",
   "mimetype": "text/x-python",
   "name": "python",
   "nbconvert_exporter": "python",
   "pygments_lexer": "ipython3",
   "version": "3.10.18"
  }
 },
 "nbformat": 4,
 "nbformat_minor": 5
}
